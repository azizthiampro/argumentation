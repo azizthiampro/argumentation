{
 "cells": [
  {
   "cell_type": "code",
   "execution_count": 284,
   "id": "8449ba64",
   "metadata": {},
   "outputs": [
    {
     "name": "stdout",
     "output_type": "stream",
     "text": [
      "Les arguments sont : ['A', 'B', 'C', 'D', 'E']\n",
      "Les actions sont : ['AB', 'BA', 'AC', 'BC', 'CD', 'DE']\n"
     ]
    }
   ],
   "source": [
    "import os\n",
    "\n",
    "import itertools\n",
    "\n",
    "file_path = '/Users/thiamaziz/Desktop/Master 1/RCR/Argumentation/Projet/test_af1.apx'\n",
    "\n",
    "arguments = []\n",
    "actions = []\n",
    "\n",
    "# Check if the file exists before trying to open it\n",
    "if os.path.exists(file_path):\n",
    "    try:\n",
    "        with open(file_path, 'r') as file:\n",
    "            for line in file:\n",
    "                stripped_line = line.strip()\n",
    "                if stripped_line.startswith((\"arg(\", \"att(\")):\n",
    "                    item = stripped_line[4] if stripped_line.startswith(\"arg(\") else stripped_line[4:7:2]\n",
    "                    (arguments if \"arg(\" in stripped_line else actions).append(item)\n",
    "    except Exception as e:\n",
    "        print(f\"An error occurred: {e}\")\n",
    "else:\n",
    "    print(f\"The file {file_path} does not exist.\")\n",
    "\n",
    "print(\"Les arguments sont :\", arguments)\n",
    "print(\"Les actions sont :\", actions)\n"
   ]
  },
  {
   "cell_type": "code",
   "execution_count": 285,
   "id": "b08aa2e9",
   "metadata": {},
   "outputs": [
    {
     "name": "stdout",
     "output_type": "stream",
     "text": [
      "True\n"
     ]
    }
   ],
   "source": [
    "def conflict_free(ensemble, actions):\n",
    "    # Iterate through each pair of actions in the ensemble\n",
    "    for i in range(len(ensemble)):\n",
    "        for j in range(i + 1, len(ensemble)):\n",
    "            # Concatenate the two actions to form a potential conflict\n",
    "            action = ensemble[i] + ensemble[j]\n",
    "            \n",
    "            # Check if the concatenated action or its reverse is in the list of actions\n",
    "            if action in actions or action[::-1] in actions:\n",
    "                # If a conflict is found, return False\n",
    "                return False\n",
    "    \n",
    "    # If no conflicts are found, return True\n",
    "    return True\n",
    "\n",
    "\n",
    "result = conflict_free('CE', actions)\n",
    "print(result)\n",
    "\n",
    "\n"
   ]
  },
  {
   "cell_type": "code",
   "execution_count": 286,
   "id": "46ab7136",
   "metadata": {},
   "outputs": [
    {
     "name": "stdout",
     "output_type": "stream",
     "text": [
      "['B', 'C']\n",
      "A attaque : ['B', 'C']\n",
      "B attaque : ['A', 'C']\n",
      "C attaque : ['D']\n",
      "D attaque : ['E']\n",
      "E attaque : []\n"
     ]
    }
   ],
   "source": [
    "def listeAttaque(arguments, actions):\n",
    "    attaques = {}\n",
    "\n",
    "    for argument in arguments:\n",
    "        attaques[argument] = []\n",
    "\n",
    "    for action in actions:\n",
    "        attaquant, attaque = action[0], action[1]\n",
    "        attaques[attaquant].append(attaque)\n",
    "\n",
    "    return attaques\n",
    "\n",
    "\n",
    "resultat = listeAttaque(arguments, actions)\n",
    "print(resultat['A'])\n",
    "\n",
    "\n",
    "for attaquant, attaques in resultat.items():\n",
    "    print(f\"{attaquant} attaque : {attaques}\")\n"
   ]
  },
  {
   "cell_type": "code",
   "execution_count": 287,
   "id": "1f5da6a9",
   "metadata": {},
   "outputs": [
    {
     "name": "stdout",
     "output_type": "stream",
     "text": [
      "False\n"
     ]
    }
   ],
   "source": [
    "def selfdefense1(elem, arguments, actions):\n",
    "    try:\n",
    "        if len(elem) != 1:\n",
    "            raise ValueError(\"la taille de l'element est differente de 1\")\n",
    "        \n",
    "        mla = listeAttaque(arguments, actions)\n",
    "        for action in actions:\n",
    "            if elem == action[1] and action[::-1][1] not in mla[elem]:\n",
    "                return False\n",
    "        return True\n",
    "    except ValueError as e:\n",
    "        print(f\"Error: {e}\")\n",
    "        return False\n",
    "\n",
    "actions = ['AB', 'BC', 'CD']\n",
    "arguments = ['A', 'B', 'C', 'D']\n",
    "elem = 'B'\n",
    "\n",
    "result = selfdefense1(elem, arguments, actions)\n",
    "print(result)\n",
    "\n"
   ]
  },
  {
   "cell_type": "code",
   "execution_count": 288,
   "id": "3ad667ef",
   "metadata": {},
   "outputs": [
    {
     "name": "stdout",
     "output_type": "stream",
     "text": [
      "True\n"
     ]
    }
   ],
   "source": [
    "def selfdefense(elem, arguments, actions):\n",
    "    mla = listeAttaque(arguments, actions)\n",
    "    \n",
    "    for i in range(len(elem)):\n",
    "        attaquant_defense = elem[i]\n",
    "        listeDesAttaquesDef = mla[attaquant_defense].copy()\n",
    "        listeDesAttaquesAtt = []  # Initialize the list\n",
    "        \n",
    "        for action in actions:\n",
    "            attaquant = action[0]\n",
    "            defenseur = action[1]\n",
    "            \n",
    "            if attaquant_defense == defenseur:\n",
    "                listeDesAttaquesDef = mla[defenseur].copy()\n",
    "                \n",
    "                if attaquant in listeDesAttaquesDef:  # If the defenseur defends\n",
    "                    listeDesAttaquesAtt = list(mla[attaquant])\n",
    "                    if defenseur in listeDesAttaquesAtt:\n",
    "                        listeDesAttaquesAtt.remove(defenseur)\n",
    "                \n",
    "                if attaquant not in listeDesAttaquesDef:  # If the defenseur doesn't defend\n",
    "                    for j in range(len(elem)):\n",
    "                        if j != i and attaquant in mla[elem[j]]:\n",
    "                            if defenseur in listeDesAttaquesAtt:\n",
    "                                listeDesAttaquesAtt.remove(defenseur)\n",
    "        \n",
    "        # If one defends against one of their attackers, remove it from listeDesAttaquesAtt\n",
    "        for attaquant in listeDesAttaquesAtt:\n",
    "            if attaquant in mla[attaquant_defense]:\n",
    "                listeDesAttaquesAtt.remove(defenseur)\n",
    "                \n",
    "        if not listeDesAttaquesAtt:\n",
    "            # If the defending element has no remaining attackers, check defense condition\n",
    "            for b in arguments:\n",
    "                if b != attaquant_defense and any((b, a) in actions for a in elem):\n",
    "                    # Check if there exists c in elem such that (c, b) is in actions\n",
    "                    if not any((c, b) in actions for c in elem if c != attaquant_defense):\n",
    "                        return False  # Defense condition not satisfied\n",
    "    \n",
    "    # If all elements can defend themselves collectively, return True\n",
    "    return True\n",
    "\n",
    "# Test with elem = 'AD'\n",
    "elem = 'AD'\n",
    "result = selfdefense(elem, arguments, actions)\n",
    "print(result)  # It should print False\n"
   ]
  },
  {
   "cell_type": "code",
   "execution_count": null,
   "id": "60763a5f",
   "metadata": {},
   "outputs": [],
   "source": []
  }
 ],
 "metadata": {
  "kernelspec": {
   "display_name": "Python 3 (ipykernel)",
   "language": "python",
   "name": "python3"
  },
  "language_info": {
   "codemirror_mode": {
    "name": "ipython",
    "version": 3
   },
   "file_extension": ".py",
   "mimetype": "text/x-python",
   "name": "python",
   "nbconvert_exporter": "python",
   "pygments_lexer": "ipython3",
   "version": "3.11.5"
  }
 },
 "nbformat": 4,
 "nbformat_minor": 5
}
